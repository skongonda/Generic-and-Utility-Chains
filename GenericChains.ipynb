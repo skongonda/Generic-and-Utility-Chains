{
 "cells": [
  {
   "cell_type": "markdown",
   "metadata": {},
   "source": [
    "# Generic Chains"
   ]
  },
  {
   "cell_type": "markdown",
   "metadata": {},
   "source": [
    "**Simple Chain**\n",
    "\n",
    "**The most elementary type of chain is known as a basic chain, which represents the simplest form of crafting a chain.**\n",
    "**In this setup, there is only one Language Model (LLM) responsible for receiving an input prompt and using it for generating text.**"
   ]
  },
  {
   "cell_type": "code",
   "execution_count": 1,
   "metadata": {},
   "outputs": [],
   "source": [
    "import os\n",
    "from dotenv import load_dotenv\n",
    "load_dotenv()\n",
    "os.environ[\"OPENAI_API_KEY\"] = os.getenv(\"OPENAI_API_KEY\")\n",
    "os.environ[\"HUG_API_KEY\"] = os.getenv(\"HUG_API_KEY\")\n"
   ]
  },
  {
   "cell_type": "code",
   "execution_count": 2,
   "metadata": {},
   "outputs": [],
   "source": [
    "# from langchain.llms import OpenAI # This import has been replaced by the below\n",
    "\n",
    "from langchain_openai import OpenAI\n",
    "from langchain.prompts import PromptTemplate\n",
    "from langchain.chains import LLMChain"
   ]
  },
  {
   "cell_type": "code",
   "execution_count": 3,
   "metadata": {},
   "outputs": [],
   "source": [
    "llm = OpenAI()"
   ]
  },
  {
   "cell_type": "code",
   "execution_count": 4,
   "metadata": {},
   "outputs": [],
   "source": [
    "prompt = PromptTemplate(\n",
    "    input_variables=[\"place\"],\n",
    "    template=\"Best places to visit in {place}?\",\n",
    ")"
   ]
  },
  {
   "cell_type": "code",
   "execution_count": 5,
   "metadata": {},
   "outputs": [
    {
     "name": "stderr",
     "output_type": "stream",
     "text": [
      "C:\\Users\\skong\\AppData\\Local\\Temp\\ipykernel_24648\\2884945031.py:1: LangChainDeprecationWarning: The class `LLMChain` was deprecated in LangChain 0.1.17 and will be removed in 1.0. Use RunnableSequence, e.g., `prompt | llm` instead.\n",
      "  chain = LLMChain(llm = llm, prompt = prompt)\n"
     ]
    }
   ],
   "source": [
    "chain = LLMChain(llm = llm, prompt = prompt)"
   ]
  },
  {
   "cell_type": "code",
   "execution_count": 6,
   "metadata": {},
   "outputs": [
    {
     "name": "stdout",
     "output_type": "stream",
     "text": [
      "{'place': 'India', 'text': '\\n1. Taj Mahal, Agra\\n2. Golden Temple, Amritsar\\n3. Jaipur, Rajasthan\\n4. Varanasi, Uttar Pradesh\\n5. Goa\\n6. Kerala backwaters\\n7. Ladakh\\n8. Mysore, Karnataka\\n9. Hampi, Karnataka\\n10. Ranthambore National Park, Rajasthan\\n11. Darjeeling, West Bengal\\n12. Udaipur, Rajasthan\\n13. Jaisalmer, Rajasthan\\n14. Mumbai, Maharashtra\\n15. Delhi\\n16. Srinagar, Kashmir\\n17. Andaman and Nicobar Islands\\n18. Shimla, Himachal Pradesh\\n19. Khajuraho, Madhya Pradesh\\n20. Hampi, Karnataka.'}\n"
     ]
    }
   ],
   "source": [
    "# Run the chain only specifying the input variable.\n",
    "# Recently langchain has replaced 'run' function with 'invoke'\n",
    "\n",
    "print(chain.invoke(\"India\"))\n"
   ]
  },
  {
   "cell_type": "markdown",
   "metadata": {},
   "source": [
    "# Simple Sequential Chains"
   ]
  },
  {
   "cell_type": "markdown",
   "metadata": {},
   "source": [
    "**Sequential Chains involves making a series of consecutive calls to the language model.**\n",
    "**This approach proves especially valuable when there is a need to utilize the output generated from one call as the input for another call.**"
   ]
  },
  {
   "cell_type": "code",
   "execution_count": 7,
   "metadata": {},
   "outputs": [],
   "source": [
    "from langchain.chains import SimpleSequentialChain\n",
    "\n",
    "# from langchain.llms import HuggingFaceHub\n",
    "# The above have been updated recently, so going forward we have to use the below import\n",
    "\n",
    "from langchain.llms import HuggingFaceEndpoint"
   ]
  },
  {
   "cell_type": "code",
   "execution_count": 8,
   "metadata": {},
   "outputs": [],
   "source": [
    "template = \"\"\"You have to suggest 5 best places to visit in {place}?\n",
    "\n",
    "YOUR RESPONSE:\n",
    "\"\"\"\n",
    "prompt_template = PromptTemplate(\n",
    "    input_variables=[\"place\"], \n",
    "    template=template)"
   ]
  },
  {
   "cell_type": "code",
   "execution_count": 9,
   "metadata": {},
   "outputs": [
    {
     "name": "stderr",
     "output_type": "stream",
     "text": [
      "C:\\Users\\skong\\AppData\\Local\\Temp\\ipykernel_24648\\2407415495.py:5: LangChainDeprecationWarning: The class `HuggingFaceEndpoint` was deprecated in LangChain 0.0.37 and will be removed in 1.0. An updated version of the class exists in the langchain-huggingface package and should be used instead. To use it run `pip install -U langchain-huggingface` and import as `from langchain_huggingface import HuggingFaceEndpoint`.\n",
      "  HF_llm = HuggingFaceEndpoint(repo_id=\"mistralai/Mistral-7B-Instruct-v0.2\") # Model link : https://huggingface.co/mistralai/Mistral-7B-Instruct-v0.2\n",
      "d:\\Lab Setup\\Generic-and-Utility-Chains\\genericUtilityChains\\lib\\site-packages\\tqdm\\auto.py:21: TqdmWarning: IProgress not found. Please update jupyter and ipywidgets. See https://ipywidgets.readthedocs.io/en/stable/user_install.html\n",
      "  from .autonotebook import tqdm as notebook_tqdm\n"
     ]
    }
   ],
   "source": [
    "# HF_llm = HuggingFaceHub(repo_id = \"google/flan-t5-large\")\n",
    "# The above 'HuggingFaceHub' class has been depreciated, so please use the below class'HuggingFaceEndpoint' \n",
    "# and the below mentioned model outperforms most of the available open source LLMs\n",
    "\n",
    "HF_llm = HuggingFaceEndpoint(repo_id=\"mistralai/Mistral-7B-Instruct-v0.2\") # Model link : https://huggingface.co/mistralai/Mistral-7B-Instruct-v0.2\n"
   ]
  },
  {
   "cell_type": "code",
   "execution_count": 10,
   "metadata": {},
   "outputs": [],
   "source": [
    "place_chain = LLMChain(llm = llm, prompt = prompt_template)"
   ]
  },
  {
   "cell_type": "code",
   "execution_count": 11,
   "metadata": {},
   "outputs": [],
   "source": [
    "template = \"\"\"Given a list a places, please estimate the expenses to visit all of them in local currency and also the days needed\n",
    "{expenses}\n",
    "\n",
    "YOUR RESPONSE:\n",
    "\"\"\"\n",
    "prompt_template = PromptTemplate(\n",
    "    input_variables=[\"expenses\"],\n",
    "    template=template)"
   ]
  },
  {
   "cell_type": "code",
   "execution_count": 12,
   "metadata": {},
   "outputs": [],
   "source": [
    "llm = OpenAI()"
   ]
  },
  {
   "cell_type": "code",
   "execution_count": 13,
   "metadata": {},
   "outputs": [],
   "source": [
    "expenses_chain = LLMChain(llm=llm, prompt=prompt_template)"
   ]
  },
  {
   "cell_type": "code",
   "execution_count": 14,
   "metadata": {},
   "outputs": [],
   "source": [
    "final_chain = SimpleSequentialChain(chains=[place_chain, expenses_chain], verbose=True)"
   ]
  },
  {
   "cell_type": "code",
   "execution_count": 15,
   "metadata": {},
   "outputs": [
    {
     "name": "stderr",
     "output_type": "stream",
     "text": [
      "Error in StdOutCallbackHandler.on_chain_start callback: AttributeError(\"'NoneType' object has no attribute 'get'\")\n"
     ]
    },
    {
     "name": "stdout",
     "output_type": "stream",
     "text": [
      "\u001b[36;1m\u001b[1;3m\n",
      "1. Taj Mahal - Located in Agra, the Taj Mahal is one of the most iconic and beautiful monuments in India. It is a symbol of love and is a must-visit for anyone traveling to India.\n",
      "\n",
      "2. Jaipur - Known as the \"Pink City,\" Jaipur is the capital of the state of Rajasthan and offers a perfect blend of history, culture, and vibrant colors. From magnificent forts and palaces to bustling markets and delicious food, Jaipur is a must-visit for any traveler.\n",
      "\n",
      "3. Kerala - Known as \"God's Own Country,\" Kerala is a state in South India blessed with natural beauty, serene backwaters, and lush green landscapes. It is a perfect destination for nature lovers and those seeking a relaxing vacation.\n",
      "\n",
      "4. Goa - Famous for its stunning beaches, delicious seafood, and vibrant nightlife, Goa is a popular tourist destination in India. It offers a perfect mix of relaxation and adventure, making it a must-visit for travelers.\n",
      "\n",
      "5. Ladakh - Located in the northern part of India, Ladakh is a high-altitude desert known for its breathtaking landscapes, Buddhist monasteries, and adventure activities. It is a paradise for nature lovers and a must-visit for those seeking an offbeat travel experience.\u001b[0m\n",
      "\u001b[33;1m\u001b[1;3m\n",
      "1. Taj Mahal - Expenses: Approximately 1,000 rupees for entrance fee and an additional 500 rupees for a guide. Days needed: 1 day.\n",
      "\n",
      "2. Jaipur - Expenses: Approximately 2,000 rupees per day for accommodation, food, and transportation. Days needed: 2-3 days.\n",
      "\n",
      "3. Kerala - Expenses: Approximately 3,000 rupees per day for accommodation, food, and transportation. Days needed: 5-7 days.\n",
      "\n",
      "4. Goa - Expenses: Approximately 2,500 rupees per day for accommodation, food, and transportation. Days needed: 3-4 days.\n",
      "\n",
      "5. Ladakh - Expenses: Approximately 4,000 rupees per day for accommodation, food, and transportation. Days needed: 7-10 days.\u001b[0m\n",
      "\n",
      "\u001b[1m> Finished chain.\u001b[0m\n"
     ]
    }
   ],
   "source": [
    "review = final_chain.invoke(\"India\")"
   ]
  }
 ],
 "metadata": {
  "kernelspec": {
   "display_name": "Python 3",
   "language": "python",
   "name": "python3"
  },
  "language_info": {
   "codemirror_mode": {
    "name": "ipython",
    "version": 3
   },
   "file_extension": ".py",
   "mimetype": "text/x-python",
   "name": "python",
   "nbconvert_exporter": "python",
   "pygments_lexer": "ipython3",
   "version": "3.8.20"
  }
 },
 "nbformat": 4,
 "nbformat_minor": 2
}
